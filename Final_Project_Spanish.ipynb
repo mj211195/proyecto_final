{
  "cells": [
    {
      "cell_type": "markdown",
      "id": "18e1c76e",
      "metadata": {
        "id": "18e1c76e"
      },
      "source": [
        "<center><h1>Proyecto final</h1></center>\n",
        "<center><h3>IBM SkillsBuild Europa - Análisis de datos</h3></center>"
      ]
    },
    {
      "cell_type": "markdown",
      "id": "ccdda504",
      "metadata": {
        "id": "ccdda504"
      },
      "source": [
        "# Requisitos\n",
        "\n",
        "\n",
        "\n",
        "* Conocimientos de Python, Power BI o Tableau.\n",
        "* Comprensión de la limpieza de datos.\n",
        "* Comprensión de la visualización de datos.\n",
        "\n",
        "\n",
        "\n",
        "#### Nivel de ejercicio: Intermedio\n",
        "\n",
        "\n",
        "\n",
        "#### Duración: aproximadamente 3 horas\n"
      ]
    },
    {
      "cell_type": "markdown",
      "id": "1dd097a8",
      "metadata": {
        "id": "1dd097a8"
      },
      "source": [
        "### Análisis de datos de Airbnb:\n",
        "\n",
        "\n",
        "\n",
        "#### Objetivo:\n",
        "\n",
        "\n",
        "\n",
        "En este ejercicio, practicarás el análisis de datos sobre un conjunto de datos abiertos procedentes de Airbnb. Algunas de las tareas incluyen:\n",
        "\n",
        "- limpieza de datos,\n",
        "- transformación de datos y\n",
        "- visualización de datos.\n",
        "\n",
        "\n",
        "\n",
        "#### Resumen sobre los datos de Airbnb:\n",
        "\n",
        "\n",
        "\n",
        "Los criterios principales de la gente cuando visita lugares nuevos son contar con alojamiento y comida a precios razonables. Airbnb (Air-Bed-Breakfast) es un mercado en línea creado para satisfacer esta necesidad, pues permite a la gente alquilar sus casas durante plazos cortos. Estos servicios se ofrecen a un precio relativamente inferior al de los hoteles y en diversas ubicaciones geográficas. Además, personas de todo el mundo prefieren el servicio hogareño y económico.\n",
        "\n",
        "\n",
        "\n",
        "#### Fuente de los datos\n",
        "\n",
        "\n",
        "\n",
        "Puedes obtener el <i>dataset</i> para realizar este proyecto en el siguiente enlace: https://www.kaggle.com/datasets/arianazmoudeh/airbnbopendata\n",
        "\n",
        "\n",
        "\n",
        "Este <i>dataset</i> contiene información sobre los alojamientos, tal como el barrio, el tipo de habitación, el precio, la disponibilidad, las opiniones, los gastos de servicio, la política de cancelación y las normas de uso de la casa.\n",
        "\n",
        "\n",
        "\n",
        "¡Te deseamos lo mejor en tu análisis de los datos de Airbnb!"
      ]
    },
    {
      "cell_type": "markdown",
      "id": "87iYmshDK853",
      "metadata": {
        "id": "87iYmshDK853"
      },
      "source": [
        "## Tarea 1: Carga de datos (Python)\n",
        "\n",
        "\n",
        "\n",
        "1. Lee el fichero csv y cárgarlo en un <i>dataframe</i> de pandas.\n",
        "2. Visualiza las cinco primeras filas de tu <i>dataframe</i>.\n",
        "3. Visualize los tipos de datos de las columnas."
      ]
    },
    {
      "cell_type": "code",
      "execution_count": null,
      "id": "-ikKZ3bYK856",
      "metadata": {
        "id": "-ikKZ3bYK856"
      },
      "outputs": [],
      "source": [
        "## Lee el fichero csv.\n",
        "import pandas as pd\n",
        "datos = pd.read_csv('Airbnb_Open_Data.csv')"
      ]
    },
    {
      "cell_type": "code",
      "execution_count": null,
      "id": "RWEtAhDbK858",
      "metadata": {
        "id": "RWEtAhDbK858"
      },
      "outputs": [],
      "source": [
        "## Muestra las primeras 5 filas.\n",
        "datos.head(5)"
      ]
    },
    {
      "cell_type": "code",
      "execution_count": null,
      "id": "WuceSXM-K859",
      "metadata": {
        "id": "WuceSXM-K859"
      },
      "outputs": [],
      "source": [
        "## Muestra los tipos de datos.\n",
        "datos.dtypes"
      ]
    },
    {
      "cell_type": "markdown",
      "id": "cAkB_QvkK859",
      "metadata": {
        "id": "cAkB_QvkK859"
      },
      "source": [
        "## Tarea 2a: Limpieza de datos (cualquier herramienta)\n",
        "\n",
        "\n",
        "1. Elimina las columnas no deseadas del <i>dataframe</i>, entre ellas se incluyen `host id`, `id`, `country` y `country code`.\n",
        "2. Indica la razón por la cual se han eliminado estas columnas para tu análisis de datos.\n",
        "\n",
        "\n",
        "Si utilizas Python para este ejercicio, incluye el código que hayas utilizado en las celdas siguientes. Si utilizas cualquier otra herramienta, incluye capturas de pantalla tomadas antes y después de eliminar las columnas."
      ]
    },
    {
      "cell_type": "code",
      "execution_count": null,
      "id": "DoduWcK9K85-",
      "metadata": {
        "id": "DoduWcK9K85-"
      },
      "outputs": [],
      "source": [
        "#Eliminar columnas id, hostid, country, country code (se han eliminado estas columnas ya que solo contienen información que no es relevante)\n",
        "datos.drop(['id','host id','country','country code'], axis='columns', inplace=True)\n",
        "datos"
      ]
    },
    {
      "cell_type": "code",
      "execution_count": null,
      "id": "cEvRIZhQK85-",
      "metadata": {
        "id": "cEvRIZhQK85-"
      },
      "outputs": [],
      "source": []
    },
    {
      "cell_type": "code",
      "execution_count": null,
      "id": "5KkwkvsNK85_",
      "metadata": {
        "id": "5KkwkvsNK85_"
      },
      "outputs": [],
      "source": []
    },
    {
      "cell_type": "markdown",
      "id": "8v34rhNaK85_",
      "metadata": {
        "id": "8v34rhNaK85_"
      },
      "source": [
        "## Tarea 2b: Limpieza de datos (Python)\n",
        "\n",
        "\n",
        "- Compueba si hay valores nulos y muestra el recuento en orden ascendente. **Si faltan valores, imputa los valores como consideres.**\n",
        "- Comprueba si hay valores duplicados y elimínalos.\n",
        "- Muestra el número total de registros antes y después de eliminar los duplicados."
      ]
    },
    {
      "cell_type": "code",
      "execution_count": null,
      "id": "Z2MfBKnyK86A",
      "metadata": {
        "id": "Z2MfBKnyK86A"
      },
      "outputs": [],
      "source": [
        "## Comprueba si hay valores nulos y muestra el recuento en orden ascendente.\n",
        "datos.isnull().sum().sort_values(ascending=1)\n",
        "\n"
      ]
    },
    {
      "cell_type": "code",
      "execution_count": null,
      "id": "-huqnzKlK86A",
      "metadata": {
        "id": "-huqnzKlK86A"
      },
      "outputs": [],
      "source": [
        "## Comprueba si hay valores duplicados y elimínalos.\n",
        "registrosTotales = len(datos.index)\n",
        "valoresDuplicados = datos.duplicated().sum()\n",
        "datos = datos.drop_duplicates()\n",
        "datos\n",
        "\n"
      ]
    },
    {
      "cell_type": "code",
      "execution_count": null,
      "id": "pJDuUXTTK86A",
      "metadata": {
        "id": "pJDuUXTTK86A"
      },
      "outputs": [],
      "source": [
        "## Muestra el número total de registros antes y después de eliminar los duplicados.\n",
        "registrosTotales\n",
        "print('Número de regiestros totales antes ' + str(registrosTotales) + ', número de registros después de eliminar duplicados ' + str(len(datos.index)))\n"
      ]
    },
    {
      "cell_type": "markdown",
      "id": "jI9H0IAEK86B",
      "metadata": {
        "id": "jI9H0IAEK86B"
      },
      "source": [
        "## Tarea 3: Transformación de datos (cualquier herramienta)\n",
        "\n",
        "\n",
        "\n",
        "\n",
        "\n",
        "- Cambia el nombre de la columna `availability 365` a `days_booked`.\n",
        "- Convierte todos los nombres de columna a minúsculas y sustituye los espacios en los nombres de columna por un guión bajo \"_\".\n",
        "- Elimina el signo de dólares y la coma de las columnas `price` y `service_fee`. Si es necesario, convierte estas dos columnas al tipo de datos adecuado.\n",
        "\n",
        "\n",
        "\n",
        "Si utilizas Python para este ejercicio, incluye el código que hayas utilizado en las celdas siguientes. Si utilizas cualquier otra herramienta, incluye capturas de pantalla de tu trabajo."
      ]
    },
    {
      "cell_type": "code",
      "execution_count": null,
      "id": "dzJpmYvhK86B",
      "metadata": {
        "id": "dzJpmYvhK86B"
      },
      "outputs": [],
      "source": [
        "## Cambia el nombre de la columna.\n",
        "datos.rename(columns={'availability 365': 'days_booked'})\n",
        "\n",
        "\n",
        "\n",
        "\n",
        "\n",
        "\n",
        "\n"
      ]
    },
    {
      "cell_type": "code",
      "execution_count": null,
      "id": "KqsgZ1aBK86C",
      "metadata": {
        "id": "KqsgZ1aBK86C"
      },
      "outputs": [],
      "source": [
        "## Convierte todos los nombres de columna a minúsculas y sustituye los espacios por un guión bajo \"_\".\n",
        "datos.columns = datos.columns.str.lower().str.replace(' ', '_')\n",
        "datos\n",
        "\n",
        "\n",
        "\n",
        "\n",
        "\n"
      ]
    },
    {
      "cell_type": "code",
      "execution_count": null,
      "id": "m66wCpyoK86C",
      "metadata": {
        "id": "m66wCpyoK86C"
      },
      "outputs": [],
      "source": [
        "## Elimina el signo de dólares y la coma de las columnas. Si es necesario, convierte estas dos columnas al tipo de datos adecuado.\n",
        "datos['price'] = datos['price'].str.replace(',', '')\n",
        "datos['price'] = datos['price'].str.replace('$', '')\n",
        "datos['service_fee'] = datos['price'].str.replace(',', '')\n",
        "datos['service_fee'] = datos['service_fee'].str.replace('$', '')\n",
        "datos['price'].fillna(0, inplace = True)\n",
        "datos['service_fee'].fillna(0, inplace = True)\n",
        "datos['price'] = datos['price'].astype(int)\n",
        "datos['service_fee'] = datos['service_fee'].astype(int)\n",
        "\n",
        "\n"
      ]
    },
    {
      "cell_type": "markdown",
      "id": "DxyVsRzyK86C",
      "metadata": {
        "id": "DxyVsRzyK86C"
      },
      "source": [
        "### Tarea 4: Análisis exploratorio de datos (cualquier herramienta)\n",
        "\n",
        "\n",
        "\n",
        "- Enumera los tipos de habitaciones disponibles en el <i>dataset</i>.\n",
        "- ¿Qué tipo de habitación tiene la política de cancelación más estricta?\n",
        "- Enumera el precio medio por barrio y señala cuál es el conjunto de barrios más caro para alquilar.\n",
        "\n",
        "\n",
        "\n",
        "Si utilizas Python para este ejercicio, incluye el código que hayas utilizado en las celdas siguientes. Si utilizas cualquier otra herramienta, incluye capturas de pantalla de tu trabajo."
      ]
    },
    {
      "cell_type": "code",
      "execution_count": null,
      "id": "ylqpVpIaK86D",
      "metadata": {
        "id": "ylqpVpIaK86D"
      },
      "outputs": [],
      "source": [
        "## Enumera los tipos de habitaciones disponibles en Airbnb.\n",
        "datos['room_type'].value_counts()"
      ]
    },
    {
      "cell_type": "code",
      "execution_count": null,
      "id": "EOF0g2geK86D",
      "metadata": {
        "id": "EOF0g2geK86D"
      },
      "outputs": [],
      "source": [
        "## ¿Qué tipo de habitación se adhiere a una política de cancelación más estricta?\n",
        "datos.loc[datos['cancellation_policy'] == 'strict', 'room_type'].value_counts().head(1)"
      ]
    },
    {
      "cell_type": "code",
      "execution_count": null,
      "id": "7fIwo9SrK86E",
      "metadata": {
        "id": "7fIwo9SrK86E"
      },
      "outputs": [],
      "source": [
        "## Enumera los precios por barrio y menciona también cuál es el grupo de barrios con alquileres más caros.\n",
        "group1=datos['price'].groupby(datos['neighbourhood_group']).mean().sort_values(ascending=False)\n",
        "group1"
      ]
    },
    {
      "cell_type": "markdown",
      "id": "MqAfrs2_K86E",
      "metadata": {
        "id": "MqAfrs2_K86E"
      },
      "source": [
        "## Tarea 5a: Visualización de datos (Cualquier herramienta)\n",
        "\n",
        "* Enumerar los distintos tipos de habitaciones disponibles en Airnb\n",
        "* Qué tipo de habitación se adhiere a una política de cancelación más estricta.\n",
        "* Enumere los precios por grupo de barrios y mencione también cuál es el grupo de barrios más caro para los alquileres.\n",
        "* Enumere los 10 barrios más caros por orden creciente de precio con la ayuda de un gráfico de barras horizontales. ¿Cuál es el barrio más barato?\n",
        "* Enumere los barrios que ofrecen alquileres a corto plazo de menos de 10 días. Ilustrar con un gráfico de barras\n",
        "* Enumere los precios con respecto al tipo de habitación utilizando un gráfico de barras y exponga también sus inferencias.\n",
        "* Cree un gráfico circular que muestre la distribución de los días reservados para cada grupo de barrios.\n",
        "\n",
        "Si utiliza Python para este ejercicio, por favor incluya el código en las celdas de abajo. Si utiliza cualquier otra herramienta, por favor incluya pantallazos de su trabajo."
      ]
    },
    {
      "cell_type": "code",
      "execution_count": null,
      "id": "WcAcrUvTK86F",
      "metadata": {
        "id": "WcAcrUvTK86F"
      },
      "outputs": [],
      "source": [
        "import seaborn as sns\n",
        "sns.countplot(x=datos['room_type'])"
      ]
    },
    {
      "cell_type": "code",
      "execution_count": null,
      "id": "tdx97C6rK86F",
      "metadata": {
        "id": "tdx97C6rK86F"
      },
      "outputs": [],
      "source": [
        "sns.countplot(datos.loc[datos['cancellation_policy'] == 'strict', 'room_type'])"
      ]
    },
    {
      "cell_type": "code",
      "execution_count": null,
      "id": "JYOjAgTVK86F",
      "metadata": {
        "id": "JYOjAgTVK86F"
      },
      "outputs": [],
      "source": []
    },
    {
      "cell_type": "code",
      "execution_count": null,
      "id": "MLDWJj_jK86G",
      "metadata": {
        "id": "MLDWJj_jK86G"
      },
      "outputs": [],
      "source": []
    },
    {
      "cell_type": "markdown",
      "id": "686IEH_tK86G",
      "metadata": {
        "id": "686IEH_tK86G"
      },
      "source": [
        "## Tarea 5b: Visualización de datos (Cualquier herramienta)\n",
        "\n",
        "* ¿El precio del servicio y el precio de la habitación tienen un impacto mutuo? Ilustre esta relación con un gráfico de dispersión e indique sus inferencias\n",
        "* Utilizando un gráfico lineal muestre en qué año tuvo lugar la máxima construcción de habitaciones.\n",
        "\n",
        "Si utiliza Python para este ejercicio, incluya el código en las celdas siguientes. Si utiliza cualquier otra herramienta, incluya capturas de pantalla de su trabajo."
      ]
    },
    {
      "cell_type": "code",
      "execution_count": null,
      "id": "dJHVCn9fK86H",
      "metadata": {
        "id": "dJHVCn9fK86H"
      },
      "outputs": [],
      "source": []
    },
    {
      "cell_type": "code",
      "execution_count": null,
      "id": "JzlihqeiK86H",
      "metadata": {
        "id": "JzlihqeiK86H"
      },
      "outputs": [],
      "source": []
    },
    {
      "cell_type": "markdown",
      "id": "2Yc5AWtsK86H",
      "metadata": {
        "id": "2Yc5AWtsK86H"
      },
      "source": [
        "## Tarea 5c: Visualización de datos (Cualquier herramienta)\n",
        "\n",
        "* Con la ayuda de gráficos de caja ilustra lo siguiente\n",
        " * Efecto del número de tasa de revisión en el precio\n",
        " * Efecto de la identidad del host verificada en el precio\n",
        "\n",
        "Si utiliza Python para este ejercicio, por favor incluya el código en las celdas de abajo. Si utiliza cualquier otra herramienta, por favor incluya capturas de pantalla de su trabajo."
      ]
    },
    {
      "cell_type": "code",
      "execution_count": null,
      "id": "u7w_1H1sK86H",
      "metadata": {
        "id": "u7w_1H1sK86H"
      },
      "outputs": [],
      "source": []
    },
    {
      "cell_type": "code",
      "execution_count": null,
      "id": "NDIOsUSRK86I",
      "metadata": {
        "id": "NDIOsUSRK86I"
      },
      "outputs": [],
      "source": []
    },
    {
      "cell_type": "code",
      "execution_count": null,
      "id": "UM7P_KhFK86I",
      "metadata": {
        "id": "UM7P_KhFK86I"
      },
      "outputs": [],
      "source": []
    }
  ],
  "metadata": {
    "colab": {
      "provenance": []
    },
    "kernelspec": {
      "display_name": "Python 3",
      "language": "python",
      "name": "python3"
    },
    "language_info": {
      "codemirror_mode": {
        "name": "ipython",
        "version": 3
      },
      "file_extension": ".py",
      "mimetype": "text/x-python",
      "name": "python",
      "nbconvert_exporter": "python",
      "pygments_lexer": "ipython3",
      "version": "3.12.1"
    },
    "nteract": {
      "version": "0.28.0"
    },
    "toc": {
      "base_numbering": 1,
      "nav_menu": {},
      "number_sections": false,
      "sideBar": true,
      "skip_h1_title": true,
      "title_cell": "Table of Contents",
      "title_sidebar": "Contents",
      "toc_cell": false,
      "toc_position": {},
      "toc_section_display": true,
      "toc_window_display": true
    },
    "vscode": {
      "interpreter": {
        "hash": "31f2aee4e71d21fbe5cf8b01ff0e069b9275f58929596ceb00d14d90e3e16cd6"
      }
    }
  },
  "nbformat": 4,
  "nbformat_minor": 5
}
